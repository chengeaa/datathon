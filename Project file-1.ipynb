{
 "cells": [
  {
   "cell_type": "markdown",
   "metadata": {},
   "source": [
    "# Starter code"
   ]
  },
  {
   "cell_type": "code",
   "execution_count": 12,
   "metadata": {
    "ExecuteTime": {
     "end_time": "2019-10-20T02:17:01.455621Z",
     "start_time": "2019-10-20T02:17:01.428695Z"
    },
    "code_folding": [
     6,
     15,
     34,
     37,
     40,
     45
    ]
   },
   "outputs": [],
   "source": [
    "import random\n",
    "import matplotlib.pyplot as plt\n",
    "import numpy as np\n",
    "import cv2\n",
    "%matplotlib inline\n",
    "\n",
    "def display_img(img, title=\"Store Map\", figsize=(15, 10), cmap='gray', minmax=True):\n",
    "    plt.figure(figsize=figsize)\n",
    "    if minmax:\n",
    "        plt.imshow(img, cmap=cmap, vmin=0, vmax=255)\n",
    "    else:\n",
    "        plt.imshow(img, cmap=cmap)\n",
    "    plt.title(title)\n",
    "    plt.show()\n",
    "\n",
    "def perlin(x, y, seed=0):\n",
    "    np.random.seed(seed)\n",
    "    p = np.arange(256, dtype=int)\n",
    "    np.random.shuffle(p)\n",
    "    p = np.stack([p, p]).flatten()\n",
    "    xi = x.astype(int)\n",
    "    yi = y.astype(int)\n",
    "    xf = x - xi\n",
    "    yf = y - yi\n",
    "    u = fade(xf)\n",
    "    v = fade(yf)\n",
    "    n00 = gradient(p[p[xi] + yi], xf, yf)\n",
    "    n01 = gradient(p[p[xi] + yi + 1], xf, yf - 1)\n",
    "    n11 = gradient(p[p[xi + 1] + yi + 1], xf - 1, yf - 1)\n",
    "    n10 = gradient(p[p[xi + 1] + yi], xf - 1, yf)\n",
    "    x1 = lerp(n00, n10, u)\n",
    "    x2 = lerp(n01, n11, u)\n",
    "    return lerp(x1, x2, v)\n",
    "\n",
    "def lerp(a, b, x):\n",
    "    return a + x * (b - a)\n",
    "\n",
    "def fade(t):\n",
    "    return 6 * t**5 - 15 * t**4 + 10 * t**3\n",
    "\n",
    "def gradient(h,x,y):\n",
    "    vectors = np.array([[0, 1], [0, -1], [1, 0], [-1, 0]])\n",
    "    g = vectors[h % 4]\n",
    "    return g[:, :, 0] * x + g[:, :, 1] * y\n",
    "\n",
    "def generate_noise_image(width, height, origin=0, scale_factor=5, seed=2):\n",
    "    size = max([width, height])\n",
    "    scale_x = width / size\n",
    "    scale_y = height / size\n",
    "    X = np.linspace(origin, scale_factor * scale_x, width, endpoint=False)\n",
    "    Y = np.linspace(origin, scale_factor * scale_y, height, endpoint=False)\n",
    "    x, y = np.meshgrid(X, Y)\n",
    "    noise_img = perlin(x, y, seed=seed)\n",
    "    return noise_img"
   ]
  },
  {
   "cell_type": "code",
   "execution_count": 15,
   "metadata": {
    "ExecuteTime": {
     "end_time": "2019-10-20T02:17:22.843292Z",
     "start_time": "2019-10-20T02:17:22.831232Z"
    },
    "code_folding": [
     0
    ]
   },
   "outputs": [],
   "source": [
    "def get_traffic_map_and_targets(N, traffic_seed, target_seed, origin=0, scale_factor=5):\n",
    "    # Load store map\n",
    "    im_gray = cv2.imread('1150.png', cv2.IMREAD_GRAYSCALE)\n",
    "    # Binarize\n",
    "    thresh, im_bw = cv2.threshold(im_gray, 254, 255, cv2.THRESH_BINARY_INV)\n",
    "    # Fill holes to make impassable areas\n",
    "    collision_map = im_bw.copy()\n",
    "    contour, hier = cv2.findContours(collision_map, cv2.RETR_CCOMP, cv2.CHAIN_APPROX_SIMPLE)\n",
    "    for cnt in contour:\n",
    "        cv2.drawContours(collision_map, [cnt], 0, 255, -1)\n",
    "    # Edge detect to generate valid targets\n",
    "    valid_targets = cv2.Laplacian(collision_map, cv2.CV_64F)\n",
    "    # Generate random targets\n",
    "    random.seed(target_seed)\n",
    "    im_targets = im_gray.copy()\n",
    "    ys, xs = valid_targets.nonzero()\n",
    "    target_indicies = random.sample(range(len(xs)), N)\n",
    "    target_xs, target_ys = xs[target_indicies], ys[target_indicies]\n",
    "    # Generate noise image for traffic\n",
    "    width, height = len(im_targets[0]), len(im_targets)\n",
    "    noise_img = generate_noise_image(width, height, seed=traffic_seed, origin=origin, scale_factor=scale_factor)\n",
    "    noise_img = (noise_img - np.min(noise_img)) / (np.max(noise_img) - np.min(noise_img))\n",
    "    # Merge noise and collisions\n",
    "    travel_friction = (~collision_map>0).astype(int) * noise_img\n",
    "    # Enforce collision map infinite condition\n",
    "    travel_friction[collision_map>0] = np.inf\n",
    "    # Make targets passable\n",
    "    for x, y in zip(target_xs, target_ys):\n",
    "        travel_friction[y][x] = 0\n",
    "    # Return the friction map and the target points\n",
    "    return travel_friction, list(zip(target_xs, target_ys))"
   ]
  },
  {
   "cell_type": "code",
   "execution_count": 19,
   "metadata": {
    "ExecuteTime": {
     "end_time": "2019-10-20T02:19:41.333171Z",
     "start_time": "2019-10-20T02:19:38.852944Z"
    }
   },
   "outputs": [
    {
     "ename": "NameError",
     "evalue": "name 'target_xs' is not defined",
     "output_type": "error",
     "traceback": [
      "\u001b[1;31m---------------------------------------------------------------------------\u001b[0m",
      "\u001b[1;31mNameError\u001b[0m                                 Traceback (most recent call last)",
      "\u001b[1;32m<ipython-input-19-30fff8299fc5>\u001b[0m in \u001b[0;36m<module>\u001b[1;34m\u001b[0m\n\u001b[0;32m      1\u001b[0m \u001b[0mmap_img\u001b[0m\u001b[1;33m,\u001b[0m \u001b[0mtarget_points\u001b[0m \u001b[1;33m=\u001b[0m \u001b[0mget_traffic_map_and_targets\u001b[0m\u001b[1;33m(\u001b[0m\u001b[1;36m50\u001b[0m\u001b[1;33m,\u001b[0m \u001b[1;36m42\u001b[0m\u001b[1;33m,\u001b[0m \u001b[1;36m42\u001b[0m\u001b[1;33m,\u001b[0m \u001b[0mscale_factor\u001b[0m\u001b[1;33m=\u001b[0m\u001b[1;36m5\u001b[0m\u001b[1;33m)\u001b[0m\u001b[1;33m\u001b[0m\u001b[0m\n\u001b[0;32m      2\u001b[0m \u001b[0mdisp_img\u001b[0m \u001b[1;33m=\u001b[0m \u001b[0mmap_img\u001b[0m\u001b[1;33m.\u001b[0m\u001b[0mcopy\u001b[0m\u001b[1;33m(\u001b[0m\u001b[1;33m)\u001b[0m\u001b[1;33m\u001b[0m\u001b[0m\n\u001b[1;32m----> 3\u001b[1;33m \u001b[1;32mfor\u001b[0m \u001b[0mx\u001b[0m\u001b[1;33m,\u001b[0m \u001b[0my\u001b[0m \u001b[1;32min\u001b[0m \u001b[0mzip\u001b[0m\u001b[1;33m(\u001b[0m\u001b[0mtarget_xs\u001b[0m\u001b[1;33m,\u001b[0m \u001b[0mtarget_ys\u001b[0m\u001b[1;33m)\u001b[0m\u001b[1;33m:\u001b[0m\u001b[1;33m\u001b[0m\u001b[0m\n\u001b[0m\u001b[0;32m      4\u001b[0m     \u001b[0mcv2\u001b[0m\u001b[1;33m.\u001b[0m\u001b[0mcircle\u001b[0m\u001b[1;33m(\u001b[0m\u001b[0mdisp_img\u001b[0m\u001b[1;33m,\u001b[0m \u001b[1;33m(\u001b[0m\u001b[0mx\u001b[0m\u001b[1;33m,\u001b[0m \u001b[0my\u001b[0m\u001b[1;33m)\u001b[0m\u001b[1;33m,\u001b[0m \u001b[0mcircle_draw_size\u001b[0m\u001b[1;33m,\u001b[0m \u001b[1;33m(\u001b[0m\u001b[1;36m0\u001b[0m\u001b[1;33m,\u001b[0m \u001b[1;36m0\u001b[0m\u001b[1;33m,\u001b[0m \u001b[1;36m0\u001b[0m\u001b[1;33m)\u001b[0m\u001b[1;33m,\u001b[0m \u001b[1;33m-\u001b[0m\u001b[1;36m1\u001b[0m\u001b[1;33m)\u001b[0m\u001b[1;33m\u001b[0m\u001b[0m\n\u001b[0;32m      5\u001b[0m \u001b[0mdisplay_img\u001b[0m\u001b[1;33m(\u001b[0m\u001b[0mdisp_img\u001b[0m\u001b[1;33m*\u001b[0m\u001b[1;36m255\u001b[0m\u001b[1;33m)\u001b[0m\u001b[1;33m\u001b[0m\u001b[0m\n",
      "\u001b[1;31mNameError\u001b[0m: name 'target_xs' is not defined"
     ]
    }
   ],
   "source": [
    "map_img, target_points = get_traffic_map_and_targets(50, 42, 42, scale_factor=5)\n",
    "disp_img = map_img.copy()\n",
    "for x, y in zip(target_xs, target_ys):\n",
    "    cv2.circle(disp_img, (x, y), circle_draw_size, (0, 0, 0), -1)\n",
    "display_img(disp_img*255)"
   ]
  },
  {
   "cell_type": "code",
   "execution_count": 18,
   "metadata": {
    "ExecuteTime": {
     "end_time": "2019-10-20T02:18:42.779811Z",
     "start_time": "2019-10-20T02:18:40.051820Z"
    }
   },
   "outputs": [
    {
     "data": {
      "image/png": "[encoded data removed]",
      "text/plain": [
       "<Figure size 1080x720 with 1 Axes>"
      ]
     },
     "metadata": {
      "needs_background": "light"
     },
     "output_type": "display_data"
    }
   ],
   "source": [
    "N = 50\n",
    "traffic_seed = 42\n",
    "target_seed = 42\n",
    "map_image, target_coords = get_traffic_map_and_targets(N, traffic_seed, target_seed)\n",
    "display_img(map_image)"
   ]
  },
  {
   "cell_type": "markdown",
   "metadata": {},
   "source": [
    "# Algorithm description"
   ]
  },
  {
   "cell_type": "markdown",
   "metadata": {},
   "source": [
    "1) Given a point of interest, $i$, filter out a subset of points $J$ around point $i$ \n",
    "\n",
    "2) Run a shortest path algorithm between $i$ and $j \\in J$, filling in the $(i, j)$ entry of the distance matrix $D$.\n",
    "\n",
    "3) Fill in all $(i, k != j)$ in $D$ to be  $\\infty$.\n",
    "\n",
    "4) Plug this complete distance matrix $D$ into an approximate solution for TSP. "
   ]
  },
  {
   "cell_type": "markdown",
   "metadata": {},
   "source": [
    "# Filtering "
   ]
  },
  {
   "cell_type": "code",
   "execution_count": null,
   "metadata": {},
   "outputs": [],
   "source": [
    "#imports\n"
   ]
  },
  {
   "cell_type": "markdown",
   "metadata": {},
   "source": [
    "# Shortest path finding "
   ]
  },
  {
   "cell_type": "code",
   "execution_count": 1,
   "metadata": {
    "ExecuteTime": {
     "end_time": "2019-10-20T01:53:15.771038Z",
     "start_time": "2019-10-20T01:53:15.767047Z"
    }
   },
   "outputs": [],
   "source": [
    "#imports \n",
    "from scipy.sparse.csgraph import dijkstra"
   ]
  },
  {
   "cell_type": "code",
   "execution_count": null,
   "metadata": {},
   "outputs": [],
   "source": []
  }
 ],
 "metadata": {
  "kernelspec": {
   "display_name": "Python 3",
   "language": "python",
   "name": "python3"
  },
  "language_info": {
   "codemirror_mode": {
    "name": "ipython",
    "version": 3
   },
   "file_extension": ".py",
   "mimetype": "text/x-python",
   "name": "python",
   "nbconvert_exporter": "python",
   "pygments_lexer": "ipython3",
   "version": "3.6.6"
  },
  "latex_envs": {
   "LaTeX_envs_menu_present": true,
   "autocomplete": true,
   "bibliofile": "biblio.bib",
   "cite_by": "apalike",
   "current_citInitial": 1,
   "eqLabelWithNumbers": true,
   "eqNumInitial": 1,
   "hotkeys": {
    "equation": "Ctrl-E",
    "itemize": "Ctrl-I"
   },
   "labels_anchors": false,
   "latex_user_defs": false,
   "report_style_numbering": false,
   "user_envs_cfg": false
  },
  "toc": {
   "colors": {
    "hover_highlight": "#DAA520",
    "navigate_num": "#000000",
    "navigate_text": "#333333",
    "running_highlight": "#FF0000",
    "selected_highlight": "#FFD700",
    "sidebar_border": "#EEEEEE",
    "wrapper_background": "#FFFFFF"
   },
   "moveMenuLeft": true,
   "nav_menu": {
    "height": "42px",
    "width": "250px"
   },
   "navigate_menu": true,
   "number_sections": true,
   "sideBar": true,
   "threshold": 4,
   "toc_cell": false,
   "toc_section_display": "block",
   "toc_window_display": false,
   "widenNotebook": false
  },
  "varInspector": {
   "cols": {
    "lenName": 16,
    "lenType": 16,
    "lenVar": 40
   },
   "kernels_config": {
    "python": {
     "delete_cmd_postfix": "",
     "delete_cmd_prefix": "del ",
     "library": "var_list.py",
     "varRefreshCmd": "print(var_dic_list())"
    },
    "r": {
     "delete_cmd_postfix": ") ",
     "delete_cmd_prefix": "rm(",
     "library": "var_list.r",
     "varRefreshCmd": "cat(var_dic_list()) "
    }
   },
   "types_to_exclude": [
    "module",
    "function",
    "builtin_function_or_method",
    "instance",
    "_Feature"
   ],
   "window_display": false
  }
 },
 "nbformat": 4,
 "nbformat_minor": 2
}
